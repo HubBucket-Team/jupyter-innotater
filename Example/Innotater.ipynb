{
 "cells": [
  {
   "cell_type": "code",
   "execution_count": 1,
   "metadata": {},
   "outputs": [],
   "source": [
    "import os\n",
    "foodfns = os.listdir('./foods/')"
   ]
  },
  {
   "cell_type": "code",
   "execution_count": 2,
   "metadata": {},
   "outputs": [
    {
     "data": {
      "text/plain": [
       "['Carrot.jpg',\n",
       " 'cookie.jpg',\n",
       " 'orange.jpg',\n",
       " 'apple.jpg',\n",
       " 'pear.jpg',\n",
       " 'banana.jpg']"
      ]
     },
     "execution_count": 2,
     "metadata": {},
     "output_type": "execute_result"
    }
   ],
   "source": [
    "foodfns"
   ]
  },
  {
   "cell_type": "code",
   "execution_count": 3,
   "metadata": {},
   "outputs": [],
   "source": [
    "from ipywidgets import interact, fixed, Image as DImage\n",
    "from IPython.display import display, Image as WImage\n",
    "from IPython.core.display import HTML \n",
    "wim = None\n",
    "def innotater(i, path=None):\n",
    "    fn = foodfns[i]\n",
    "    print(fn)\n",
    "    full_path = fn\n",
    "    if path is not None:\n",
    "        full_path = path + fn\n",
    "        \n",
    "    file = open(full_path, \"rb\")\n",
    "    im = file.read()\n",
    "    \n",
    "    wim = WImage(im, width=150, height=100)\n",
    "    #display(wim)\n",
    "    \n",
    "    return wim\n",
    "    \n",
    "    #display(DImage(filename=full_path, width=150, height=100))\n",
    "#    display(wim)"
   ]
  },
  {
   "cell_type": "code",
   "execution_count": 4,
   "metadata": {},
   "outputs": [
    {
     "data": {
      "application/vnd.jupyter.widget-view+json": {
       "model_id": "bf8be2e9b6b34f8ab2ecbda33699aa9a",
       "version_major": 2,
       "version_minor": 0
      },
      "text/plain": [
       "interactive(children=(IntSlider(value=2, description='i', max=5), Output()), _dom_classes=('widget-interact',)…"
      ]
     },
     "metadata": {},
     "output_type": "display_data"
    }
   ],
   "source": [
    "interact(innotater, i=(0,len(foodfns)-1), path=fixed('./foods/'));"
   ]
  },
  {
   "cell_type": "code",
   "execution_count": 5,
   "metadata": {},
   "outputs": [
    {
     "name": "stdout",
     "output_type": "stream",
     "text": [
      "orange.jpg\n"
     ]
    }
   ],
   "source": [
    "wim = innotater(2, path='./foods/')"
   ]
  },
  {
   "cell_type": "code",
   "execution_count": 6,
   "metadata": {},
   "outputs": [
    {
     "data": {
      "text/plain": [
       "'jpeg'"
      ]
     },
     "execution_count": 6,
     "metadata": {},
     "output_type": "execute_result"
    }
   ],
   "source": [
    "wim.format"
   ]
  },
  {
   "cell_type": "code",
   "execution_count": null,
   "metadata": {},
   "outputs": [],
   "source": []
  },
  {
   "cell_type": "code",
   "execution_count": 42,
   "metadata": {},
   "outputs": [],
   "source": [
    "from ipywidgets import DOMWidget, HBox, VBox, IntSlider, Checkbox\n",
    "from traitlets import Unicode, Int, List, Bool\n",
    "\n",
    "class InnotaterWidget(DOMWidget):\n",
    "    _view_module = Unicode('innotaterwidget').tag(sync=True)\n",
    "    _view_module_version = Unicode('0.1.0').tag(sync=True)\n",
    "    _view_name = Unicode('InnotaterWidgetView').tag(sync=True)\n",
    "    _model_module = Unicode('innotaterwidget').tag(sync=True)\n",
    "    _model_module_version = Unicode('0.1.0').tag(sync=True)\n",
    "    _model_name = Unicode('InnotaterWidgetModel').tag(sync=True)\n",
    "    index = Int().tag(sync=True)\n",
    "    inputs = List().tag(sync=True)\n",
    "    path = Unicode('').tag(sync=True)\n",
    "    targets = List([0,0,0,0,0,0]).tag(sync=True)\n",
    "    \n",
    "    checkbox_value = Bool().tag(sync=True)\n"
   ]
  },
  {
   "cell_type": "code",
   "execution_count": 78,
   "metadata": {},
   "outputs": [
    {
     "data": {
      "application/javascript": [
       "require.undef('innotaterwidget');\n",
       "\n",
       "define('innotaterwidget', ['@jupyter-widgets/base', 'jquery', 'underscore'], function(widgets, $, _) {\n",
       "    \n",
       "    var defs = _.extend(widgets.DOMWidgetModel.prototype.defaults(), {\n",
       "            _model_name: 'InnotaterWidgetModel',\n",
       "            _view_name: 'InnotaterWidgetView',\n",
       "            _model_module: 'jupyter-innotater',\n",
       "            _view_module: 'jupyter-innotater',\n",
       "            _model_module_version: '0.1.0',\n",
       "            _view_module_version: '0.1.0',\n",
       "            index: 0,\n",
       "            inputs: [],\n",
       "            path: '',\n",
       "            targets: [0,1,0,1,0,1]\n",
       "        });\n",
       "    \n",
       "    console.log(defs);\n",
       "\n",
       "    var InnotaterWidgetModel = widgets.DOMWidgetModel.extend({\n",
       "        defaults: defs\n",
       "    });\n",
       "    \n",
       "    var InnotaterWidgetView = widgets.DOMWidgetView.extend({\n",
       "        render: function() {\n",
       "            InnotaterWidgetView.__super__.render.apply(this, arguments);\n",
       "            this._count_changed();\n",
       "            this.listenTo(this.model, 'change:index', this._count_changed, this);\n",
       "            this.listenTo(this.model, 'change:checkbox_value', this._checkbox_value_changed, this);\n",
       "            this.listenTo(this.model, 'change:targets', this._targets_changed, this);\n",
       "        },\n",
       "\n",
       "        _count_changed: function() {\n",
       "            var old_value = this.model.previous('index');\n",
       "            var index = this.model.get('index');\n",
       "            var path = this.model.get('path');\n",
       "            var inputs = this.model.get('inputs');\n",
       "            var targets = this.model.get('targets').slice();\n",
       "            \n",
       "            var domcontainer = $('<div></div>');\n",
       "            var domimage = $('<img></img>', {'src': path+inputs[index], 'width': '150', 'height': '100'});\n",
       "            var domtext = $('<div></div>').append(String(index));\n",
       "            \n",
       "            var cur_value = targets[index];\n",
       "            \n",
       "            console.log(typeof(targets));\n",
       "            console.log(typeof(targets[index]));\n",
       "            \n",
       "            this.model.set('checkbox_value', !!cur_value);\n",
       "            this.model.save_changes();\n",
       "            \n",
       "            domcontainer.append(domimage).append(domtext);\n",
       "            \n",
       "            $(this.el).empty().append(domcontainer);\n",
       "        },\n",
       "        \n",
       "        _checkbox_value_changed: function() {\n",
       "            var index = this.model.get('index');\n",
       "            var targets = this.model.get('targets').slice();\n",
       "        \n",
       "            var cur_value = !!targets[index];\n",
       "            var new_value = this.model.get('checkbox_value');\n",
       "            \n",
       "            if (new_value != cur_value) {\n",
       "                targets[index] = Number(new_value); // Need 0/1 not false/true\n",
       "                console.log(targets);\n",
       "                this.model.set({'targets': targets});\n",
       "                console.log(this.model.get('targets'));\n",
       "                this.model.save_changes();\n",
       "                console.log(this.model.get('targets'));\n",
       "            }\n",
       "        },\n",
       "        _targets_changed: function() {\n",
       "        }\n",
       "    });\n",
       "\n",
       "    return {\n",
       "        InnotaterWidgetView: InnotaterWidgetView,\n",
       "        InnotaterWidgetModel: InnotaterWidgetModel\n",
       "    }\n",
       "});\n"
      ],
      "text/plain": [
       "<IPython.core.display.Javascript object>"
      ]
     },
     "metadata": {},
     "output_type": "display_data"
    }
   ],
   "source": [
    "%%javascript\n",
    "require.undef('innotaterwidget');\n",
    "\n",
    "define('innotaterwidget', ['@jupyter-widgets/base', 'jquery', 'underscore'], function(widgets, $, _) {\n",
    "    \n",
    "    var defs = _.extend(widgets.DOMWidgetModel.prototype.defaults(), {\n",
    "            _model_name: 'InnotaterWidgetModel',\n",
    "            _view_name: 'InnotaterWidgetView',\n",
    "            _model_module: 'jupyter-innotater',\n",
    "            _view_module: 'jupyter-innotater',\n",
    "            _model_module_version: '0.1.0',\n",
    "            _view_module_version: '0.1.0',\n",
    "            index: 0,\n",
    "            inputs: [],\n",
    "            path: '',\n",
    "            targets: [0,1,0,1,0,1]\n",
    "        });\n",
    "    \n",
    "    console.log(defs);\n",
    "\n",
    "    var InnotaterWidgetModel = widgets.DOMWidgetModel.extend({\n",
    "        defaults: defs\n",
    "    });\n",
    "    \n",
    "    var InnotaterWidgetView = widgets.DOMWidgetView.extend({\n",
    "        render: function() {\n",
    "            InnotaterWidgetView.__super__.render.apply(this, arguments);\n",
    "            this._count_changed();\n",
    "            this.listenTo(this.model, 'change:index', this._count_changed, this);\n",
    "            this.listenTo(this.model, 'change:checkbox_value', this._checkbox_value_changed, this);\n",
    "            this.listenTo(this.model, 'change:targets', this._targets_changed, this);\n",
    "        },\n",
    "\n",
    "        _count_changed: function() {\n",
    "            var old_value = this.model.previous('index');\n",
    "            var index = this.model.get('index');\n",
    "            var path = this.model.get('path');\n",
    "            var inputs = this.model.get('inputs');\n",
    "            var targets = this.model.get('targets').slice();\n",
    "            \n",
    "            var domcontainer = $('<div></div>');\n",
    "            var domimage = $('<img></img>', {'src': path+inputs[index], 'width': '150', 'height': '100'});\n",
    "            var domtext = $('<div></div>').append(String(index));\n",
    "            \n",
    "            var cur_value = targets[index];\n",
    "            \n",
    "            console.log(typeof(targets));\n",
    "            console.log(typeof(targets[index]));\n",
    "            \n",
    "            this.model.set('checkbox_value', !!cur_value);\n",
    "            this.model.save_changes();\n",
    "            \n",
    "            domcontainer.append(domimage).append(domtext);\n",
    "            \n",
    "            $(this.el).empty().append(domcontainer);\n",
    "        },\n",
    "        \n",
    "        _checkbox_value_changed: function() {\n",
    "            var index = this.model.get('index');\n",
    "            var targets = this.model.get('targets').slice();\n",
    "        \n",
    "            var cur_value = !!targets[index];\n",
    "            var new_value = this.model.get('checkbox_value');\n",
    "            \n",
    "            if (new_value != cur_value) {\n",
    "                targets[index] = Number(new_value); // Need 0/1 not false/true\n",
    "                console.log(targets);\n",
    "                this.model.set({'targets': targets});\n",
    "                console.log(this.model.get('targets'));\n",
    "                this.model.save_changes();\n",
    "                console.log(this.model.get('targets'));\n",
    "            }\n",
    "        },\n",
    "        _targets_changed: function() {\n",
    "        }\n",
    "    });\n",
    "\n",
    "    return {\n",
    "        InnotaterWidgetView: InnotaterWidgetView,\n",
    "        InnotaterWidgetModel: InnotaterWidgetModel\n",
    "    }\n",
    "});"
   ]
  },
  {
   "cell_type": "code",
   "execution_count": 79,
   "metadata": {},
   "outputs": [],
   "source": [
    "c = Checkbox()\n",
    "w = InnotaterWidget()\n",
    "w.inputs = foodfns\n",
    "w.targets = [1] * 6\n",
    "w.path = './foods/'\n",
    "\n",
    "s = IntSlider(min=0, max=5)\n",
    "v = VBox([w,c,s])\n",
    "jsl = widgets.jslink((s, 'value'), (w ,'index'))\n",
    "jsl2 = widgets.jslink((c, 'value'), (w ,'checkbox_value'))\n"
   ]
  },
  {
   "cell_type": "code",
   "execution_count": 80,
   "metadata": {},
   "outputs": [
    {
     "data": {
      "application/vnd.jupyter.widget-view+json": {
       "model_id": "502ecb61ac8a491f97f6e3493f09b135",
       "version_major": 2,
       "version_minor": 0
      },
      "text/plain": [
       "VBox(children=(InnotaterWidget(inputs=['Carrot.jpg', 'cookie.jpg', 'orange.jpg', 'apple.jpg', 'pear.jpg', 'ban…"
      ]
     },
     "metadata": {},
     "output_type": "display_data"
    }
   ],
   "source": [
    "display(v)"
   ]
  },
  {
   "cell_type": "code",
   "execution_count": 82,
   "metadata": {},
   "outputs": [
    {
     "data": {
      "text/plain": [
       "[0, 1, 0, 1, 1, 1]"
      ]
     },
     "execution_count": 82,
     "metadata": {},
     "output_type": "execute_result"
    }
   ],
   "source": [
    "w.targets"
   ]
  },
  {
   "cell_type": "code",
   "execution_count": 41,
   "metadata": {},
   "outputs": [],
   "source": [
    "w.targets = [1,0,0,1,1,0]"
   ]
  },
  {
   "cell_type": "code",
   "execution_count": null,
   "metadata": {},
   "outputs": [],
   "source": []
  }
 ],
 "metadata": {
  "kernelspec": {
   "display_name": "Python 3",
   "language": "python",
   "name": "python3"
  },
  "language_info": {
   "codemirror_mode": {
    "name": "ipython",
    "version": 3
   },
   "file_extension": ".py",
   "mimetype": "text/x-python",
   "name": "python",
   "nbconvert_exporter": "python",
   "pygments_lexer": "ipython3",
   "version": "3.7.1"
  }
 },
 "nbformat": 4,
 "nbformat_minor": 2
}

{
 "cells": [
  {
   "cell_type": "code",
   "execution_count": 1,
   "metadata": {},
   "outputs": [],
   "source": [
    "import os\n",
    "foodfns = os.listdir('./foods/')"
   ]
  },
  {
   "cell_type": "code",
   "execution_count": 2,
   "metadata": {},
   "outputs": [
    {
     "data": {
      "text/plain": [
       "['Carrot.jpg',\n",
       " 'cookie.jpg',\n",
       " 'orange.jpg',\n",
       " 'apple.jpg',\n",
       " 'pear.jpg',\n",
       " 'banana.jpg']"
      ]
     },
     "execution_count": 2,
     "metadata": {},
     "output_type": "execute_result"
    }
   ],
   "source": [
    "foodfns"
   ]
  },
  {
   "cell_type": "code",
   "execution_count": 3,
   "metadata": {},
   "outputs": [],
   "source": [
    "from ipywidgets import interact, fixed, Image as DImage\n",
    "from IPython.display import display, Image as WImage\n",
    "from IPython.core.display import HTML \n",
    "wim = None\n",
    "def innotater(i, path=None):\n",
    "    fn = foodfns[i]\n",
    "    print(fn)\n",
    "    full_path = fn\n",
    "    if path is not None:\n",
    "        full_path = path + fn\n",
    "        \n",
    "    file = open(full_path, \"rb\")\n",
    "    im = file.read()\n",
    "    \n",
    "    wim = WImage(im, width=150, height=100)\n",
    "    #display(wim)\n",
    "    \n",
    "    return wim\n",
    "    \n",
    "    #display(DImage(filename=full_path, width=150, height=100))\n",
    "#    display(wim)"
   ]
  },
  {
   "cell_type": "code",
   "execution_count": 4,
   "metadata": {},
   "outputs": [
    {
     "data": {
      "application/vnd.jupyter.widget-view+json": {
       "model_id": "bec7e729f22742b280a8bb30bef9a373",
       "version_major": 2,
       "version_minor": 0
      },
      "text/plain": [
       "interactive(children=(IntSlider(value=2, description='i', max=5), Output()), _dom_classes=('widget-interact',)…"
      ]
     },
     "metadata": {},
     "output_type": "display_data"
    }
   ],
   "source": [
    "interact(innotater, i=(0,len(foodfns)-1), path=fixed('./foods/'));"
   ]
  },
  {
   "cell_type": "code",
   "execution_count": 5,
   "metadata": {},
   "outputs": [
    {
     "name": "stdout",
     "output_type": "stream",
     "text": [
      "orange.jpg\n"
     ]
    }
   ],
   "source": [
    "wim = innotater(2, path='./foods/')"
   ]
  },
  {
   "cell_type": "code",
   "execution_count": 6,
   "metadata": {},
   "outputs": [
    {
     "data": {
      "text/plain": [
       "'jpeg'"
      ]
     },
     "execution_count": 6,
     "metadata": {},
     "output_type": "execute_result"
    }
   ],
   "source": [
    "wim.format"
   ]
  },
  {
   "cell_type": "code",
   "execution_count": null,
   "metadata": {},
   "outputs": [],
   "source": []
  },
  {
   "cell_type": "code",
   "execution_count": 7,
   "metadata": {},
   "outputs": [],
   "source": [
    "import ipywidgets as widgets\n",
    "from traitlets import Unicode, validate\n",
    "\n",
    "\n",
    "class HelloWidget(widgets.DOMWidget):\n",
    "    _view_name = Unicode('HelloView').tag(sync=True)\n",
    "    _view_module = Unicode('hello').tag(sync=True)\n",
    "    _view_module_version = Unicode('0.1.0').tag(sync=True)\n",
    "    value = Unicode('Hello World!').tag(sync=True)"
   ]
  },
  {
   "cell_type": "code",
   "execution_count": 8,
   "metadata": {},
   "outputs": [
    {
     "data": {
      "application/javascript": [
       "require.undef('hello');\n",
       "\n",
       "define('hello', [\"@jupyter-widgets/base\"], function(widgets) {\n",
       "\n",
       "    var HelloView = widgets.DOMWidgetView.extend({\n",
       "\n",
       "        // Render the view.\n",
       "        render: function() {\n",
       "            this.value_changed();\n",
       "            this.model.on('change:value', this.value_changed, this);\n",
       "        },\n",
       "\n",
       "        value_changed: function() {\n",
       "            this.el.textContent = this.model.get('value');\n",
       "        }\n",
       "    });\n",
       "\n",
       "    return {\n",
       "        HelloView: HelloView\n",
       "    };\n",
       "});"
      ],
      "text/plain": [
       "<IPython.core.display.Javascript object>"
      ]
     },
     "metadata": {},
     "output_type": "display_data"
    }
   ],
   "source": [
    "%%javascript\n",
    "require.undef('hello');\n",
    "\n",
    "define('hello', [\"@jupyter-widgets/base\"], function(widgets) {\n",
    "\n",
    "    var HelloView = widgets.DOMWidgetView.extend({\n",
    "\n",
    "        // Render the view.\n",
    "        render: function() {\n",
    "            this.value_changed();\n",
    "            this.model.on('change:value', this.value_changed, this);\n",
    "        },\n",
    "\n",
    "        value_changed: function() {\n",
    "            this.el.textContent = this.model.get('value');\n",
    "        }\n",
    "    });\n",
    "\n",
    "    return {\n",
    "        HelloView: HelloView\n",
    "    };\n",
    "});"
   ]
  },
  {
   "cell_type": "code",
   "execution_count": 9,
   "metadata": {},
   "outputs": [],
   "source": [
    "h = HelloWidget()\n"
   ]
  },
  {
   "cell_type": "code",
   "execution_count": 10,
   "metadata": {},
   "outputs": [
    {
     "data": {
      "application/vnd.jupyter.widget-view+json": {
       "model_id": "7be37834a0164e21af1b4e52172ae186",
       "version_major": 2,
       "version_minor": 0
      },
      "text/plain": [
       "HelloWidget()"
      ]
     },
     "metadata": {},
     "output_type": "display_data"
    }
   ],
   "source": [
    "h"
   ]
  },
  {
   "cell_type": "code",
   "execution_count": 11,
   "metadata": {},
   "outputs": [],
   "source": [
    "h.value = 'nothin'"
   ]
  },
  {
   "cell_type": "code",
   "execution_count": null,
   "metadata": {},
   "outputs": [],
   "source": []
  },
  {
   "cell_type": "code",
   "execution_count": 129,
   "metadata": {},
   "outputs": [],
   "source": [
    "from ipywidgets import DOMWidget, HBox, VBox, IntSlider, Checkbox\n",
    "from traitlets import Unicode, Int, List, Bool\n",
    "import json\n",
    "\n",
    "def to_json_w(o,w):\n",
    "    return json.dumps(o)\n",
    "\n",
    "def from_json_w(o,w):\n",
    "    return json.loads(o)\n",
    "\n",
    "class InnotaterWidget(DOMWidget):\n",
    "    _view_module = Unicode('innotaterwidget').tag(sync=True)\n",
    "    _view_module_version = Unicode('0.1.0').tag(sync=True)\n",
    "    _view_name = Unicode('InnotaterWidgetView').tag(sync=True)\n",
    "    index = Int().tag(sync=True)\n",
    "    inputs = List().tag(sync=True)\n",
    "    path = Unicode('').tag(sync=True)\n",
    "    targets = List(trait=Int()).tag(sync=True, to_json=to_json_w, from_json=from_json_w)\n",
    "    \n",
    "    checkbox_value = Bool().tag(sync=True)\n"
   ]
  },
  {
   "cell_type": "code",
   "execution_count": 137,
   "metadata": {},
   "outputs": [
    {
     "data": {
      "application/javascript": [
       "require.undef('innotaterwidget');\n",
       "\n",
       "define('innotaterwidget', ['@jupyter-widgets/base', 'jquery'], function(widgets, $) {\n",
       "    console.log(widgets);\n",
       "    var to_json_js = function(o,w) {\n",
       "        return JSON.stringify(o);\n",
       "    };\n",
       "    var from_json_js = function(o,w) {\n",
       "        return JSON.parse(o);\n",
       "    };\n",
       "    \n",
       "    var InnotaterWidgetView = widgets.DOMWidgetView.extend({\n",
       "        render: function() {\n",
       "            InnotaterWidgetView.__super__.render.apply(this, arguments);\n",
       "            this._count_changed();\n",
       "            this.listenTo(this.model, 'change:index', this._count_changed, this);\n",
       "            this.listenTo(this.model, 'change:checkbox_value', this._checkbox_value_changed, this);\n",
       "            this.listenTo(this.model, 'change:targets', this._targets_changed, this);\n",
       "        },\n",
       "\n",
       "        _count_changed: function() {\n",
       "            var old_value = this.model.previous('index');\n",
       "            var index = this.model.get('index');\n",
       "            var path = this.model.get('path');\n",
       "            var inputs = this.model.get('inputs');\n",
       "            var targets = this.model.get('targets');\n",
       "            \n",
       "            var domcontainer = $('<div></div>');\n",
       "            var domimage = $('<img></img>', {'src': path+inputs[index], 'width': '150', 'height': '100'});\n",
       "            var domtext = $('<div></div>').append(String(index));\n",
       "            \n",
       "            var cur_value = targets[index];\n",
       "            this.model.set('checkbox_value', !!cur_value);\n",
       "            this.touch();\n",
       "            \n",
       "            domcontainer.append(domimage).append(domtext);\n",
       "            \n",
       "            $(this.el).empty().append(domcontainer);\n",
       "        },\n",
       "        \n",
       "        _checkbox_value_changed: function() {\n",
       "            var index = this.model.get('index');\n",
       "            var targets = this.model.get('targets');\n",
       "        \n",
       "            var cur_value = !!targets[index];\n",
       "            var new_value = this.model.get('checkbox_value');\n",
       "            \n",
       "            if (new_value != cur_value) {\n",
       "                targets[index] = Number(new_value); // Need 0/1 not false/true\n",
       "                console.log(targets);\n",
       "                this.model.set('targets', targets);\n",
       "                console.log(this.model.get('targets'));\n",
       "                this.touch();\n",
       "                console.log(this.model.get('targets'));\n",
       "            }\n",
       "        },\n",
       "        _targets_changed: function() {\n",
       "            alert(\"Targets changed\");\n",
       "        },\n",
       "        \n",
       "        serializers: _.extend({ targets: {\n",
       "                serialize: to_json_js,\n",
       "                deserialize: from_json_js\n",
       "            }\n",
       "        }, widgets.DOMWidgetModel.serializers)\n",
       "    });\n",
       "\n",
       "    return {\n",
       "        InnotaterWidgetView: InnotaterWidgetView\n",
       "    }\n",
       "});"
      ],
      "text/plain": [
       "<IPython.core.display.Javascript object>"
      ]
     },
     "metadata": {},
     "output_type": "display_data"
    }
   ],
   "source": [
    "%%javascript\n",
    "require.undef('innotaterwidget');\n",
    "\n",
    "define('innotaterwidget', ['@jupyter-widgets/base', 'jquery'], function(widgets, $) {\n",
    "    console.log(widgets);\n",
    "    var to_json_js = function(o,w) {\n",
    "        return JSON.stringify(o);\n",
    "    };\n",
    "    var from_json_js = function(o,w) {\n",
    "        return JSON.parse(o);\n",
    "    };\n",
    "    \n",
    "    var InnotaterWidgetView = widgets.DOMWidgetView.extend({\n",
    "        render: function() {\n",
    "            InnotaterWidgetView.__super__.render.apply(this, arguments);\n",
    "            this._count_changed();\n",
    "            this.listenTo(this.model, 'change:index', this._count_changed, this);\n",
    "            this.listenTo(this.model, 'change:checkbox_value', this._checkbox_value_changed, this);\n",
    "            this.listenTo(this.model, 'change:targets', this._targets_changed, this);\n",
    "        },\n",
    "\n",
    "        _count_changed: function() {\n",
    "            var old_value = this.model.previous('index');\n",
    "            var index = this.model.get('index');\n",
    "            var path = this.model.get('path');\n",
    "            var inputs = this.model.get('inputs');\n",
    "            var targets = this.model.get('targets');\n",
    "            \n",
    "            var domcontainer = $('<div></div>');\n",
    "            var domimage = $('<img></img>', {'src': path+inputs[index], 'width': '150', 'height': '100'});\n",
    "            var domtext = $('<div></div>').append(String(index));\n",
    "            \n",
    "            var cur_value = targets[index];\n",
    "            this.model.set('checkbox_value', !!cur_value);\n",
    "            this.touch();\n",
    "            \n",
    "            domcontainer.append(domimage).append(domtext);\n",
    "            \n",
    "            $(this.el).empty().append(domcontainer);\n",
    "        },\n",
    "        \n",
    "        _checkbox_value_changed: function() {\n",
    "            var index = this.model.get('index');\n",
    "            var targets = this.model.get('targets');\n",
    "        \n",
    "            var cur_value = !!targets[index];\n",
    "            var new_value = this.model.get('checkbox_value');\n",
    "            \n",
    "            if (new_value != cur_value) {\n",
    "                targets[index] = Number(new_value); // Need 0/1 not false/true\n",
    "                console.log(targets);\n",
    "                this.model.set('targets', targets);\n",
    "                console.log(this.model.get('targets'));\n",
    "                this.touch();\n",
    "                console.log(this.model.get('targets'));\n",
    "            }\n",
    "        },\n",
    "        _targets_changed: function() {\n",
    "            alert(\"Targets changed\");\n",
    "        },\n",
    "        \n",
    "        serializers: _.extend({ targets: {\n",
    "                serialize: to_json_js,\n",
    "                deserialize: from_json_js\n",
    "            }\n",
    "        }, widgets.DOMWidgetModel.serializers)\n",
    "    });\n",
    "\n",
    "    return {\n",
    "        InnotaterWidgetView: InnotaterWidgetView\n",
    "    }\n",
    "});"
   ]
  },
  {
   "cell_type": "code",
   "execution_count": 138,
   "metadata": {},
   "outputs": [],
   "source": [
    "c = Checkbox()\n",
    "w = InnotaterWidget()\n",
    "w.inputs = foodfns\n",
    "w.targets = [1] * 6\n",
    "w.path = './foods/'\n",
    "\n",
    "s = IntSlider(min=0, max=5)\n",
    "v = VBox([w,c,s])\n",
    "jsl = widgets.jslink((s, 'value'), (w ,'index'))\n",
    "jsl2 = widgets.jslink((c, 'value'), (w ,'checkbox_value'))\n"
   ]
  },
  {
   "cell_type": "code",
   "execution_count": 139,
   "metadata": {},
   "outputs": [
    {
     "data": {
      "application/vnd.jupyter.widget-view+json": {
       "model_id": "63f7e2787e90434f87d309e4ba98345d",
       "version_major": 2,
       "version_minor": 0
      },
      "text/plain": [
       "VBox(children=(InnotaterWidget(inputs=['Carrot.jpg', 'cookie.jpg', 'orange.jpg', 'apple.jpg', 'pear.jpg', 'ban…"
      ]
     },
     "metadata": {},
     "output_type": "display_data"
    }
   ],
   "source": [
    "display(v)"
   ]
  },
  {
   "cell_type": "code",
   "execution_count": 140,
   "metadata": {},
   "outputs": [
    {
     "data": {
      "text/plain": [
       "True"
      ]
     },
     "execution_count": 140,
     "metadata": {},
     "output_type": "execute_result"
    }
   ],
   "source": [
    "w.checkbox_value"
   ]
  },
  {
   "cell_type": "code",
   "execution_count": 127,
   "metadata": {},
   "outputs": [
    {
     "data": {
      "text/plain": [
       "[1, 1, 1, 1, 1, 1]"
      ]
     },
     "execution_count": 127,
     "metadata": {},
     "output_type": "execute_result"
    }
   ],
   "source": [
    "w.targets"
   ]
  },
  {
   "cell_type": "code",
   "execution_count": 128,
   "metadata": {},
   "outputs": [
    {
     "data": {
      "text/plain": [
       "['__abs__',\n",
       " '__add__',\n",
       " '__and__',\n",
       " '__bool__',\n",
       " '__ceil__',\n",
       " '__class__',\n",
       " '__delattr__',\n",
       " '__dir__',\n",
       " '__divmod__',\n",
       " '__doc__',\n",
       " '__eq__',\n",
       " '__float__',\n",
       " '__floor__',\n",
       " '__floordiv__',\n",
       " '__format__',\n",
       " '__ge__',\n",
       " '__getattribute__',\n",
       " '__getnewargs__',\n",
       " '__gt__',\n",
       " '__hash__',\n",
       " '__index__',\n",
       " '__init__',\n",
       " '__init_subclass__',\n",
       " '__int__',\n",
       " '__invert__',\n",
       " '__le__',\n",
       " '__lshift__',\n",
       " '__lt__',\n",
       " '__mod__',\n",
       " '__mul__',\n",
       " '__ne__',\n",
       " '__neg__',\n",
       " '__new__',\n",
       " '__or__',\n",
       " '__pos__',\n",
       " '__pow__',\n",
       " '__radd__',\n",
       " '__rand__',\n",
       " '__rdivmod__',\n",
       " '__reduce__',\n",
       " '__reduce_ex__',\n",
       " '__repr__',\n",
       " '__rfloordiv__',\n",
       " '__rlshift__',\n",
       " '__rmod__',\n",
       " '__rmul__',\n",
       " '__ror__',\n",
       " '__round__',\n",
       " '__rpow__',\n",
       " '__rrshift__',\n",
       " '__rshift__',\n",
       " '__rsub__',\n",
       " '__rtruediv__',\n",
       " '__rxor__',\n",
       " '__setattr__',\n",
       " '__sizeof__',\n",
       " '__str__',\n",
       " '__sub__',\n",
       " '__subclasshook__',\n",
       " '__truediv__',\n",
       " '__trunc__',\n",
       " '__xor__',\n",
       " 'bit_length',\n",
       " 'conjugate',\n",
       " 'denominator',\n",
       " 'from_bytes',\n",
       " 'imag',\n",
       " 'numerator',\n",
       " 'real',\n",
       " 'to_bytes']"
      ]
     },
     "execution_count": 128,
     "metadata": {},
     "output_type": "execute_result"
    }
   ],
   "source": [
    "dir(w.checkbox_value)"
   ]
  },
  {
   "cell_type": "code",
   "execution_count": 86,
   "metadata": {},
   "outputs": [
    {
     "data": {
      "text/plain": [
       "['__add__',\n",
       " '__class__',\n",
       " '__contains__',\n",
       " '__delattr__',\n",
       " '__dir__',\n",
       " '__doc__',\n",
       " '__eq__',\n",
       " '__format__',\n",
       " '__ge__',\n",
       " '__getattribute__',\n",
       " '__getitem__',\n",
       " '__getnewargs__',\n",
       " '__gt__',\n",
       " '__hash__',\n",
       " '__init__',\n",
       " '__init_subclass__',\n",
       " '__iter__',\n",
       " '__le__',\n",
       " '__len__',\n",
       " '__lt__',\n",
       " '__mod__',\n",
       " '__mul__',\n",
       " '__ne__',\n",
       " '__new__',\n",
       " '__reduce__',\n",
       " '__reduce_ex__',\n",
       " '__repr__',\n",
       " '__rmod__',\n",
       " '__rmul__',\n",
       " '__setattr__',\n",
       " '__sizeof__',\n",
       " '__str__',\n",
       " '__subclasshook__',\n",
       " 'capitalize',\n",
       " 'casefold',\n",
       " 'center',\n",
       " 'count',\n",
       " 'encode',\n",
       " 'endswith',\n",
       " 'expandtabs',\n",
       " 'find',\n",
       " 'format',\n",
       " 'format_map',\n",
       " 'index',\n",
       " 'isalnum',\n",
       " 'isalpha',\n",
       " 'isdecimal',\n",
       " 'isdigit',\n",
       " 'isidentifier',\n",
       " 'islower',\n",
       " 'isnumeric',\n",
       " 'isprintable',\n",
       " 'isspace',\n",
       " 'istitle',\n",
       " 'isupper',\n",
       " 'join',\n",
       " 'ljust',\n",
       " 'lower',\n",
       " 'lstrip',\n",
       " 'maketrans',\n",
       " 'partition',\n",
       " 'replace',\n",
       " 'rfind',\n",
       " 'rindex',\n",
       " 'rjust',\n",
       " 'rpartition',\n",
       " 'rsplit',\n",
       " 'rstrip',\n",
       " 'split',\n",
       " 'splitlines',\n",
       " 'startswith',\n",
       " 'strip',\n",
       " 'swapcase',\n",
       " 'title',\n",
       " 'translate',\n",
       " 'upper',\n",
       " 'zfill']"
      ]
     },
     "execution_count": 86,
     "metadata": {},
     "output_type": "execute_result"
    }
   ],
   "source": [
    "dir(w.path)"
   ]
  },
  {
   "cell_type": "code",
   "execution_count": 95,
   "metadata": {},
   "outputs": [
    {
     "data": {
      "text/plain": [
       "['test', 't2']"
      ]
     },
     "execution_count": 95,
     "metadata": {},
     "output_type": "execute_result"
    }
   ],
   "source": [
    "json.loads('[\"test\",\"t2\"]')"
   ]
  },
  {
   "cell_type": "code",
   "execution_count": null,
   "metadata": {},
   "outputs": [],
   "source": []
  }
 ],
 "metadata": {
  "kernelspec": {
   "display_name": "Python 3",
   "language": "python",
   "name": "python3"
  },
  "language_info": {
   "codemirror_mode": {
    "name": "ipython",
    "version": 3
   },
   "file_extension": ".py",
   "mimetype": "text/x-python",
   "name": "python",
   "nbconvert_exporter": "python",
   "pygments_lexer": "ipython3",
   "version": "3.6.6"
  }
 },
 "nbformat": 4,
 "nbformat_minor": 2
}

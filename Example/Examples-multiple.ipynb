{
 "cells": [
  {
   "cell_type": "code",
   "execution_count": 1,
   "metadata": {},
   "outputs": [],
   "source": [
    "from jupyter_innotater import Innotater\n",
    "from jupyter_innotater.data import ImageInnotation, BoundingBoxInnotation, \\\n",
    "                                    MultiClassInnotation, BinaryClassInnotation, TextInnotation\n",
    "from jupyter_innotater.combine import GroupedInnotation, RepeatInnotation\n",
    "\n",
    "import numpy as np, os"
   ]
  },
  {
   "cell_type": "markdown",
   "metadata": {},
   "source": [
    "### Repeated version"
   ]
  },
  {
   "cell_type": "code",
   "execution_count": 2,
   "metadata": {},
   "outputs": [
    {
     "data": {
      "application/vnd.jupyter.widget-view+json": {
       "model_id": "a0b16484b2d64933961837fd78a1d362",
       "version_major": 2,
       "version_minor": 0
      },
      "text/plain": [
       "Innotater(children=(HBox(children=(VBox(children=(ImagePad(value=b'\\xff\\xd8\\xff\\xe0\\x00\\x10JFIF\\x00\\x01\\x01\\x0…"
      ]
     },
     "metadata": {},
     "output_type": "display_data"
    }
   ],
   "source": [
    "foodfns = sorted(os.listdir('./foods/'))\n",
    "\n",
    "repeats = 3\n",
    "\n",
    "targets_singlebb1 = np.zeros((len(foodfns), 4), dtype='int') # (x,y,w,h) for each data row\n",
    "targets_bb1 = np.zeros((len(foodfns), repeats, 4), dtype='int') # (x,y,w,h) for each data row\n",
    "classes = ['vegetable', 'biscuit', 'fruit']\n",
    "targets_cl1 = np.zeros((len(foodfns), repeats, 1), dtype='int')\n",
    "\n",
    "targets_singlebb2 = np.zeros((len(foodfns), 4), dtype='int') # (x,y,w,h) for each data row\n",
    "targets_bb2 = np.zeros((len(foodfns), repeats, 4), dtype='int') # (x,y,w,h) for each data row\n",
    "targets_cl2 = np.zeros((len(foodfns), repeats, 1), dtype='int')\n",
    "\n",
    "\n",
    "i = Innotater( ImageInnotation(foodfns, path='./foods'), \n",
    "              [\n",
    "           BoundingBoxInnotation(targets_singlebb1),\n",
    "           RepeatInnotation( # Assumes grouped like above\n",
    "             (BoundingBoxInnotation, targets_bb1),\n",
    "             (MultiClassInnotation, targets_cl1, {'name':'FoodType', 'classes':classes, 'desc':'Food Type', 'dropdown':True}),\n",
    "             max_repeats=repeats, min_repeats=2\n",
    "         ),\n",
    "                      BoundingBoxInnotation(targets_singlebb2),\n",
    "           RepeatInnotation( # Assumes grouped like above\n",
    "             (BoundingBoxInnotation, targets_bb2),\n",
    "             max_repeats=repeats\n",
    "         ),       \n",
    "              ]\n",
    ")\n",
    "display(i)"
   ]
  },
  {
   "cell_type": "code",
   "execution_count": 3,
   "metadata": {},
   "outputs": [
    {
     "data": {
      "application/vnd.jupyter.widget-view+json": {
       "model_id": "6fc5248bd86e485fa6ca9030b5c03921",
       "version_major": 2,
       "version_minor": 0
      },
      "text/plain": [
       "Innotater(children=(HBox(children=(VBox(children=(ImagePad(value=b'\\xff\\xd8\\xff\\xe0\\x00\\x10JFIF\\x00\\x01\\x01\\x0…"
      ]
     },
     "metadata": {},
     "output_type": "display_data"
    }
   ],
   "source": [
    "foodfns = sorted(os.listdir('./foods/'))\n",
    "\n",
    "repeats = 3\n",
    "\n",
    "targets_bb = np.zeros((len(foodfns), repeats, 4), dtype='int') # (x,y,w,h) for each data row\n",
    "classes = ['vegetable', 'biscuit', 'fruit']\n",
    "targets_cl = np.zeros((len(foodfns), repeats, 1), dtype='int')\n",
    "\n",
    "\n",
    "i = Innotater( ImageInnotation(foodfns, path='./foods'), \n",
    "              [\n",
    "           RepeatInnotation( # Assumes grouped like above\n",
    "             (BoundingBoxInnotation, targets_bb),\n",
    "             (MultiClassInnotation, targets_cl, {'name':'FoodType', 'classes':classes, 'desc':'Food Type', 'dropdown':True}),\n",
    "             max_repeats=repeats\n",
    "         )\n",
    "              ]\n",
    ")\n",
    "display(i)"
   ]
  },
  {
   "cell_type": "markdown",
   "metadata": {},
   "source": [
    "### Image Filenames - Bounding Boxes and Classes"
   ]
  },
  {
   "cell_type": "code",
   "execution_count": 8,
   "metadata": {},
   "outputs": [
    {
     "data": {
      "application/vnd.jupyter.widget-view+json": {
       "model_id": "1abf2d07f35448508ff407dd4b8605ea",
       "version_major": 2,
       "version_minor": 0
      },
      "text/plain": [
       "Innotater(children=(HBox(children=(VBox(children=(ImagePad(value=b'\\xff\\xd8\\xff\\xe0\\x00\\x10JFIF\\x00\\x01\\x01\\x0…"
      ]
     },
     "metadata": {},
     "output_type": "display_data"
    }
   ],
   "source": [
    "foodfns = sorted(os.listdir('./foods/'))\n",
    "targets_bb = np.zeros((len(foodfns), 4), dtype='int') # (x,y,w,h) for each data row\n",
    "classes = ['vegetable', 'biscuit', 'fruit']\n",
    "targets_cl = [0] * len(foodfns)\n",
    "\n",
    "Innotater( ImageInnotation(foodfns, path='./foods'), \n",
    "          [ \n",
    "              BoundingBoxInnotation(targets_bb), \n",
    "              MultiClassInnotation(targets_cl, name='FoodType', classes=classes, desc='Food Type', dropdown=True)\n",
    "          ] )"
   ]
  },
  {
   "cell_type": "markdown",
   "metadata": {},
   "source": [
    "### Grouped version"
   ]
  },
  {
   "cell_type": "code",
   "execution_count": 7,
   "metadata": {
    "scrolled": false
   },
   "outputs": [
    {
     "data": {
      "application/vnd.jupyter.widget-view+json": {
       "model_id": "fb46a66b7ff741af8b38bbb2e7b36078",
       "version_major": 2,
       "version_minor": 0
      },
      "text/plain": [
       "Innotater(children=(HBox(children=(VBox(children=(ImagePad(value=b'\\xff\\xd8\\xff\\xe0\\x00\\x10JFIF\\x00\\x01\\x01\\x0…"
      ]
     },
     "metadata": {},
     "output_type": "display_data"
    }
   ],
   "source": [
    "targets_singlebb = np.zeros((len(foodfns), 4), dtype='int') # (x,y,w,h) for each data row\n",
    "targets_cl = np.zeros((len(foodfns), 1), dtype='int')\n",
    "\n",
    "\n",
    "Innotater( ImageInnotation(foodfns, path='./foods'), \n",
    "           GroupedInnotation( # Just to place side-by-side\n",
    "               MultiClassInnotation(targets_cl, name='FoodType', classes=classes, desc='Food Type', dropdown=True),\n",
    "              BoundingBoxInnotation(targets_singlebb)\n",
    "              \n",
    "           ) \n",
    ")"
   ]
  },
  {
   "cell_type": "code",
   "execution_count": 8,
   "metadata": {},
   "outputs": [
    {
     "data": {
      "text/plain": [
       "(array([[2],\n",
       "        [0],\n",
       "        [0],\n",
       "        [0],\n",
       "        [0],\n",
       "        [0],\n",
       "        [0],\n",
       "        [0]]), array([[144,  52,  66,  99],\n",
       "        [ 35, 170, 229,  56],\n",
       "        [  0,   0,   0,   0],\n",
       "        [  0,   0,   0,   0],\n",
       "        [  0,   0,   0,   0],\n",
       "        [  0,   0,   0,   0],\n",
       "        [  0,   0,   0,   0],\n",
       "        [  0,   0,   0,   0]]))"
      ]
     },
     "execution_count": 8,
     "metadata": {},
     "output_type": "execute_result"
    }
   ],
   "source": [
    "targets_cl, targets_singlebb"
   ]
  },
  {
   "cell_type": "code",
   "execution_count": null,
   "metadata": {},
   "outputs": [],
   "source": []
  }
 ],
 "metadata": {
  "kernelspec": {
   "display_name": "Python 3",
   "language": "python",
   "name": "python3"
  },
  "language_info": {
   "codemirror_mode": {
    "name": "ipython",
    "version": 3
   },
   "file_extension": ".py",
   "mimetype": "text/x-python",
   "name": "python",
   "nbconvert_exporter": "python",
   "pygments_lexer": "ipython3",
   "version": "3.7.3"
  }
 },
 "nbformat": 4,
 "nbformat_minor": 2
}

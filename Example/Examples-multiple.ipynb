{
 "cells": [
  {
   "cell_type": "code",
   "execution_count": 1,
   "metadata": {},
   "outputs": [],
   "source": [
    "from jupyter_innotater import Innotater\n",
    "from jupyter_innotater.data import ImageInnotation, BoundingBoxInnotation, \\\n",
    "                                    MultiClassInnotation, BinaryClassInnotation, TextInnotation\n",
    "from jupyter_innotater.combine import GroupedInnotation, RepeatInnotation\n",
    "from jupyter_innotater.marshall import JsonMarshaller\n",
    "\n",
    "import numpy as np, os"
   ]
  },
  {
   "cell_type": "markdown",
   "metadata": {},
   "source": [
    "### Repeated version"
   ]
  },
  {
   "cell_type": "code",
   "execution_count": 2,
   "metadata": {},
   "outputs": [
    {
     "data": {
      "application/vnd.jupyter.widget-view+json": {
       "model_id": "657dee526cbe429a90831ab73b66e9d4",
       "version_major": 2,
       "version_minor": 0
      },
      "text/plain": [
       "Innotater(children=(HBox(children=(VBox(children=(ImagePad(value=b'\\xff\\xd8\\xff\\xe0\\x00\\x10JFIF\\x00\\x01\\x01\\x0…"
      ]
     },
     "metadata": {},
     "output_type": "display_data"
    }
   ],
   "source": [
    "foodfns = sorted(os.listdir('./foods/'))\n",
    "\n",
    "repeats = 3\n",
    "\n",
    "targets_singlebb1 = np.zeros((len(foodfns), 4), dtype='int') # (x,y,w,h) for each data row\n",
    "targets_bb1 = np.zeros((len(foodfns), repeats, 4), dtype='int') # (x,y,w,h) for each data row\n",
    "classes = ['vegetable', 'biscuit', 'fruit']\n",
    "targets_cl1 = np.zeros((len(foodfns), repeats, 1), dtype='int')\n",
    "\n",
    "targets_singlebb2 = np.zeros((len(foodfns), 4), dtype='int') # (x,y,w,h) for each data row\n",
    "targets_bb2 = np.zeros((len(foodfns), repeats, 4), dtype='int') # (x,y,w,h) for each data row\n",
    "targets_cl2 = np.zeros((len(foodfns), repeats, 1), dtype='int')\n",
    "\n",
    "\n",
    "json_data = [{}] * len(foodfns)\n",
    "jm = JsonMarshaller(json_data)\n",
    "\n",
    "ii=ImageInnotation(foodfns, path='./foods')\n",
    "\n",
    "i = Innotater( ii, \n",
    "              [\n",
    "           BoundingBoxInnotation(targets_singlebb1),\n",
    "           RepeatInnotation( # Assumes grouped like above\n",
    "             jm,\n",
    "             (BoundingBoxInnotation, targets_bb1),\n",
    "             (MultiClassInnotation, targets_cl1, {'name':'FoodType', 'classes':classes, 'desc':'Food Type', 'dropdown':True}),\n",
    "             max_repeats=repeats, min_repeats=2\n",
    "         ),\n",
    "                      BoundingBoxInnotation(targets_singlebb2),\n",
    "           RepeatInnotation( # Assumes grouped like above\n",
    "             jm,\n",
    "             (BoundingBoxInnotation, targets_bb2),\n",
    "             (MultiClassInnotation, targets_cl2, {'name':'FoodType2', 'classes':classes, 'desc':'Food Type2', 'dropdown':True}),\n",
    "             max_repeats=repeats\n",
    "         ),       \n",
    "              ]\n",
    ")\n",
    "display(i)"
   ]
  },
  {
   "cell_type": "code",
   "execution_count": 13,
   "metadata": {},
   "outputs": [
    {
     "data": {
      "text/plain": [
       "array([[[2],\n",
       "        [0],\n",
       "        [0]],\n",
       "\n",
       "       [[0],\n",
       "        [0],\n",
       "        [0]],\n",
       "\n",
       "       [[0],\n",
       "        [0],\n",
       "        [0]],\n",
       "\n",
       "       [[0],\n",
       "        [0],\n",
       "        [0]],\n",
       "\n",
       "       [[0],\n",
       "        [0],\n",
       "        [0]],\n",
       "\n",
       "       [[0],\n",
       "        [0],\n",
       "        [0]],\n",
       "\n",
       "       [[0],\n",
       "        [0],\n",
       "        [0]],\n",
       "\n",
       "       [[0],\n",
       "        [0],\n",
       "        [0]]])"
      ]
     },
     "execution_count": 13,
     "metadata": {},
     "output_type": "execute_result"
    }
   ],
   "source": [
    "targets_cl2"
   ]
  },
  {
   "cell_type": "code",
   "execution_count": 3,
   "metadata": {},
   "outputs": [
    {
     "data": {
      "application/vnd.jupyter.widget-view+json": {
       "model_id": "6fc5248bd86e485fa6ca9030b5c03921",
       "version_major": 2,
       "version_minor": 0
      },
      "text/plain": [
       "Innotater(children=(HBox(children=(VBox(children=(ImagePad(value=b'\\xff\\xd8\\xff\\xe0\\x00\\x10JFIF\\x00\\x01\\x01\\x0…"
      ]
     },
     "metadata": {},
     "output_type": "display_data"
    }
   ],
   "source": [
    "foodfns = sorted(os.listdir('./foods/'))\n",
    "\n",
    "repeats = 3\n",
    "\n",
    "targets_bb = np.zeros((len(foodfns), repeats, 4), dtype='int') # (x,y,w,h) for each data row\n",
    "classes = ['vegetable', 'biscuit', 'fruit']\n",
    "targets_cl = np.zeros((len(foodfns), repeats, 1), dtype='int')\n",
    "\n",
    "json_data = [{}] * len(foodfns)\n",
    "jm = JsonMarshaller(json_data)\n",
    "\n",
    "ii=ImageInnotation(foodfns, path='./foods')\n",
    "\n",
    "i = Innotater( ii, \n",
    "              [\n",
    "           RepeatInnotation( # Assumes grouped like above\n",
    "             jm,\n",
    "             (BoundingBoxInnotation, targets_bb),\n",
    "             (MultiClassInnotation, targets_cl, {'name':'FoodType', 'classes':classes, 'desc':'Food Type', 'dropdown':True}),\n",
    "             max_repeats=repeats\n",
    "         )\n",
    "              ]\n",
    ")\n",
    "display(i)"
   ]
  },
  {
   "cell_type": "markdown",
   "metadata": {},
   "source": [
    "### Image Filenames - Bounding Boxes and Classes"
   ]
  },
  {
   "cell_type": "code",
   "execution_count": 8,
   "metadata": {},
   "outputs": [
    {
     "data": {
      "application/vnd.jupyter.widget-view+json": {
       "model_id": "1abf2d07f35448508ff407dd4b8605ea",
       "version_major": 2,
       "version_minor": 0
      },
      "text/plain": [
       "Innotater(children=(HBox(children=(VBox(children=(ImagePad(value=b'\\xff\\xd8\\xff\\xe0\\x00\\x10JFIF\\x00\\x01\\x01\\x0…"
      ]
     },
     "metadata": {},
     "output_type": "display_data"
    }
   ],
   "source": [
    "foodfns = sorted(os.listdir('./foods/'))\n",
    "targets_bb = np.zeros((len(foodfns), 4), dtype='int') # (x,y,w,h) for each data row\n",
    "classes = ['vegetable', 'biscuit', 'fruit']\n",
    "targets_cl = [0] * len(foodfns)\n",
    "\n",
    "Innotater( ImageInnotation(foodfns, path='./foods'), \n",
    "          [ \n",
    "              BoundingBoxInnotation(targets_bb), \n",
    "              MultiClassInnotation(targets_cl, name='FoodType', classes=classes, desc='Food Type', dropdown=True)\n",
    "          ] )"
   ]
  },
  {
   "cell_type": "markdown",
   "metadata": {},
   "source": [
    "### Grouped version"
   ]
  },
  {
   "cell_type": "code",
   "execution_count": 3,
   "metadata": {
    "scrolled": false
   },
   "outputs": [
    {
     "data": {
      "application/vnd.jupyter.widget-view+json": {
       "model_id": "de7e4e4742784ec39e04dbca7ff63226",
       "version_major": 2,
       "version_minor": 0
      },
      "text/plain": [
       "Innotater(children=(HBox(children=(VBox(children=(ImagePad(value=b'\\xff\\xd8\\xff\\xe0\\x00\\x10JFIF\\x00\\x01\\x01\\x0…"
      ]
     },
     "metadata": {},
     "output_type": "display_data"
    }
   ],
   "source": [
    "Innotater( ImageInnotation(foodfns, path='./foods'), \n",
    "           GroupedInnotation( # Just to place side-by-side\n",
    "               MultiClassInnotation(targets_cl, name='FoodType', classes=classes, desc='Food Type', dropdown=True),\n",
    "              BoundingBoxInnotation(targets_bb)\n",
    "              \n",
    "           ) \n",
    ")"
   ]
  },
  {
   "cell_type": "code",
   "execution_count": 4,
   "metadata": {},
   "outputs": [
    {
     "data": {
      "text/plain": [
       "([0, 0, 0, 0, 0, 0, 0, 0], array([[139,  56, 154, 132],\n",
       "        [110, 144, 190,  99],\n",
       "        [168,  58,  82,  90],\n",
       "        [179, 103,  91,  86],\n",
       "        [  0,   0,   0,   0],\n",
       "        [  0,   0,   0,   0],\n",
       "        [  0,   0,   0,   0],\n",
       "        [  0,   0,   0,   0]]))"
      ]
     },
     "execution_count": 4,
     "metadata": {},
     "output_type": "execute_result"
    }
   ],
   "source": [
    "targets_cl, targets_bb"
   ]
  },
  {
   "cell_type": "code",
   "execution_count": null,
   "metadata": {},
   "outputs": [],
   "source": []
  }
 ],
 "metadata": {
  "kernelspec": {
   "display_name": "Python 3",
   "language": "python",
   "name": "python3"
  },
  "language_info": {
   "codemirror_mode": {
    "name": "ipython",
    "version": 3
   },
   "file_extension": ".py",
   "mimetype": "text/x-python",
   "name": "python",
   "nbconvert_exporter": "python",
   "pygments_lexer": "ipython3",
   "version": "3.7.3"
  }
 },
 "nbformat": 4,
 "nbformat_minor": 2
}

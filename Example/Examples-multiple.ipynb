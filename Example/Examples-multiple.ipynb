{
 "cells": [
  {
   "cell_type": "code",
   "execution_count": 1,
   "metadata": {},
   "outputs": [],
   "source": [
    "from jupyter_innotater import *\n",
    "import numpy as np, os"
   ]
  },
  {
   "cell_type": "markdown",
   "metadata": {},
   "source": [
    "### Repeat - Multiple Bounding Boxes, Single Classification\n",
    "\n",
    "At a per-photo level, allow classification stating whether the photo contains 'cats' or 'dogs'.\n",
    "\n",
    "And within each photo allow up to 8 bounding boxes to be drawn around the individual animals.\n",
    "\n",
    "To obtain the repeated bounding boxes we add an extra dimension to the target matrix and use the RepeatInnotation. This accepts configuration details on how to build new rows of the BoundingBoxInnotations - you do not instantiate BoundingBoxInnotations yourself, just tell it which class, data, and keyword params to use."
   ]
  },
  {
   "cell_type": "code",
   "execution_count": 2,
   "metadata": {},
   "outputs": [
    {
     "data": {
      "application/vnd.jupyter.widget-view+json": {
       "model_id": "a79f308e80bd4307a11157415373a82e",
       "version_major": 2,
       "version_minor": 0
      },
      "text/plain": [
       "Innotater(children=(HBox(children=(VBox(children=(ImagePad(value=b'\\xff\\xd8\\xff\\xe0\\x00\\x10JFIF\\x00\\x01\\x01\\x0…"
      ]
     },
     "metadata": {},
     "output_type": "display_data"
    }
   ],
   "source": [
    "animalfns = sorted(os.listdir('./animals/'))\n",
    "\n",
    "repeats = 8\n",
    "\n",
    "# Per-photo data\n",
    "classes = ['cat', 'dog']\n",
    "targets_type = np.zeros((len(animalfns), 1), dtype='int') # Column vector containing class index\n",
    "\n",
    "# Repeats within each photo\n",
    "targets_bboxes = np.zeros((len(animalfns), repeats, 4), dtype='int') # (x,y,w,h) for each animal\n",
    "\n",
    "Innotater( \n",
    "    ImageInnotation(animalfns, path='./animals', width=400, height=300), \n",
    "    [\n",
    "        MultiClassInnotation(targets_type, name='Animal Type', classes=classes, dropdown=False),\n",
    "        RepeatInnotation(\n",
    "            (BoundingBoxInnotation, targets_bboxes),\n",
    "             max_repeats=repeats, min_repeats=1\n",
    "        )\n",
    "    ]\n",
    ")"
   ]
  },
  {
   "cell_type": "code",
   "execution_count": 3,
   "metadata": {},
   "outputs": [
    {
     "name": "stdout",
     "output_type": "stream",
     "text": [
      "Class Indices [[0]\n",
      " [1]]\n",
      "Bounding Boxes [[[ 74   8 143 242]\n",
      "  [174  12  92  95]\n",
      "  [222  78 116 168]\n",
      "  [  0   0   0   0]\n",
      "  [  0   0   0   0]\n",
      "  [  0   0   0   0]\n",
      "  [  0   0   0   0]\n",
      "  [  0   0   0   0]]\n",
      "\n",
      " [[  5  55 178 241]\n",
      "  [215   4 185 249]\n",
      "  [  0   0   0   0]\n",
      "  [  0   0   0   0]\n",
      "  [  0   0   0   0]\n",
      "  [  0   0   0   0]\n",
      "  [  0   0   0   0]\n",
      "  [  0   0   0   0]]]\n"
     ]
    }
   ],
   "source": [
    "print('Class Indices', targets_type[:2]) # Just display the first 2 to save space\n",
    "print('Bounding Boxes', targets_bboxes[:2])"
   ]
  },
  {
   "cell_type": "markdown",
   "metadata": {},
   "source": [
    "### Repeat - Multiple Bounding Boxes and Multiple Classification, Single BBox and Exclude checkbox\n",
    "\n",
    "Per-photo we have an Exclude checkbox - perhaps to remove 'bad' photos from our dataset further down the line.\n",
    "\n",
    "Per-photo there is a bounding box to be drawn around the main section of the image.\n",
    "\n",
    "Also display the filename in a textbox beneath the image.\n",
    "\n",
    "Within each photo draw bounding boxes and specify breed class of each individual animal, up to a maximum of 8."
   ]
  },
  {
   "cell_type": "code",
   "execution_count": 4,
   "metadata": {
    "scrolled": false
   },
   "outputs": [
    {
     "data": {
      "application/vnd.jupyter.widget-view+json": {
       "model_id": "307746c8e81b4c9eb7357c1079f0fce1",
       "version_major": 2,
       "version_minor": 0
      },
      "text/plain": [
       "Innotater(children=(HBox(children=(VBox(children=(ImagePad(value=b'\\xff\\xd8\\xff\\xe0\\x00\\x10JFIF\\x00\\x01\\x01\\x0…"
      ]
     },
     "metadata": {},
     "output_type": "display_data"
    }
   ],
   "source": [
    "repeats = 8\n",
    "\n",
    "# Per-photo data\n",
    "targets_exclude = np.zeros((len(animalfns), 1), dtype='int') # Binary flag to indicate want to exclude from dataset\n",
    "targets_mainbbox = np.zeros((len(animalfns), 4), dtype='int') # (x,y,w,h) for each data row\n",
    "\n",
    "# Repeats within each photo\n",
    "breeds = ['Cat - Shorthair tabby', 'Cat - Shorthair ginger', 'Dog - Labrador', 'Dog - Beagle', 'Dog - Terrier']\n",
    "targets_breed = np.zeros((len(animalfns), repeats, len(breeds)), dtype='int')\n",
    "targets_breed[:,:,0] = 1 # Set up one-hot default to first class\n",
    "targets_bboxes = np.zeros((len(animalfns), repeats, 4), dtype='int') # (x,y,w,h) for each animal\n",
    "\n",
    "Innotater(\n",
    "    [ \n",
    "        ImageInnotation(animalfns, path='./animals', width=370, height=280), # Display the image itself\n",
    "        TextInnotation(animalfns, multiline=False) # Display the image filename\n",
    "    ],\n",
    "    [\n",
    "        BinaryClassInnotation(targets_exclude, name='Exclude'), # Checkbox\n",
    "        BoundingBoxInnotation(targets_mainbbox, name='Main Bounding Box'), # BBox for main image\n",
    "        RepeatInnotation(\n",
    "            (BoundingBoxInnotation, targets_bboxes), # Individual animal bounding box\n",
    "            (MultiClassInnotation, targets_breed, \n",
    "                {'name':'Breed', 'classes':breeds, 'dropdown':True}), # Per-animal breed dropdown\n",
    "            max_repeats=repeats, min_repeats=1\n",
    "        )\n",
    "    ]\n",
    ")"
   ]
  },
  {
   "cell_type": "code",
   "execution_count": 5,
   "metadata": {},
   "outputs": [
    {
     "name": "stdout",
     "output_type": "stream",
     "text": [
      "Exclude Flag [[0]\n",
      " [0]]\n",
      "Main Bounding Boxes [[ 72   7 255 242]\n",
      " [  6   0 391 297]]\n",
      "Animal Bounding Boxes [[[ 90   6 117 239]\n",
      "  [191  15  86  85]\n",
      "  [226  83 109 165]\n",
      "  [  0   0   0   0]\n",
      "  [  0   0   0   0]\n",
      "  [  0   0   0   0]\n",
      "  [  0   0   0   0]\n",
      "  [  0   0   0   0]]\n",
      "\n",
      " [[ 12  44 171 250]\n",
      "  [209   4 191 279]\n",
      "  [  0   0   0   0]\n",
      "  [  0   0   0   0]\n",
      "  [  0   0   0   0]\n",
      "  [  0   0   0   0]\n",
      "  [  0   0   0   0]\n",
      "  [  0   0   0   0]]]\n",
      "Animal Breeds [[[1 0 0 0 0]\n",
      "  [1 0 0 0 0]\n",
      "  [1 0 0 0 0]\n",
      "  [1 0 0 0 0]\n",
      "  [1 0 0 0 0]\n",
      "  [1 0 0 0 0]\n",
      "  [1 0 0 0 0]\n",
      "  [1 0 0 0 0]]\n",
      "\n",
      " [[0 0 0 1 0]\n",
      "  [0 0 0 0 1]\n",
      "  [1 0 0 0 0]\n",
      "  [1 0 0 0 0]\n",
      "  [1 0 0 0 0]\n",
      "  [1 0 0 0 0]\n",
      "  [1 0 0 0 0]\n",
      "  [1 0 0 0 0]]]\n"
     ]
    }
   ],
   "source": [
    "print('Exclude Flag', targets_exclude[:2]) # Just display the first 2 to save space\n",
    "print('Main Bounding Boxes', targets_mainbbox[:2])\n",
    "print('Animal Bounding Boxes', targets_bboxes[:2])\n",
    "print('Animal Breeds', targets_breed[:2])"
   ]
  },
  {
   "cell_type": "markdown",
   "metadata": {},
   "source": [
    "### Grouped Innotations\n",
    "\n",
    "The GroupedInnotation doesn't do any repeating but just allows you to group together other Innotations so they appear side-by-side."
   ]
  },
  {
   "cell_type": "code",
   "execution_count": 6,
   "metadata": {
    "scrolled": false
   },
   "outputs": [
    {
     "data": {
      "application/vnd.jupyter.widget-view+json": {
       "model_id": "7a937ecfba98417cbeb9f5155cff98bd",
       "version_major": 2,
       "version_minor": 0
      },
      "text/plain": [
       "Innotater(children=(HBox(children=(VBox(children=(ImagePad(value=b'\\xff\\xd8\\xff\\xe0\\x00\\x10JFIF\\x00\\x01\\x01\\x0…"
      ]
     },
     "metadata": {},
     "output_type": "display_data"
    }
   ],
   "source": [
    "targets_singlebb = np.zeros((len(animalfns), 4), dtype='int') # (x,y,w,h) for each data row\n",
    "targets_cl = np.zeros((len(animalfns), 1), dtype='int')\n",
    "\n",
    "Innotater( ImageInnotation(animalfns, path='./animals', width=370, height=280), \n",
    "           GroupedInnotation( # Just to place side-by-side\n",
    "              MultiClassInnotation(targets_cl, name='Animal', classes=classes, dropdown=True),\n",
    "              BoundingBoxInnotation(targets_singlebb)\n",
    "           ) \n",
    ")"
   ]
  },
  {
   "cell_type": "code",
   "execution_count": null,
   "metadata": {},
   "outputs": [],
   "source": []
  }
 ],
 "metadata": {
  "kernelspec": {
   "display_name": "Python 3",
   "language": "python",
   "name": "python3"
  },
  "language_info": {
   "codemirror_mode": {
    "name": "ipython",
    "version": 3
   },
   "file_extension": ".py",
   "mimetype": "text/x-python",
   "name": "python",
   "nbconvert_exporter": "python",
   "pygments_lexer": "ipython3",
   "version": "3.7.3"
  }
 },
 "nbformat": 4,
 "nbformat_minor": 2
}

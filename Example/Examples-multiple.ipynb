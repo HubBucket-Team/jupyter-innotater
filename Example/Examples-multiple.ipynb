{
 "cells": [
  {
   "cell_type": "code",
   "execution_count": 10,
   "metadata": {},
   "outputs": [],
   "source": [
    "from jupyter_innotater import *\n",
    "import numpy as np, os"
   ]
  },
  {
   "cell_type": "markdown",
   "metadata": {},
   "source": [
    "### Repeat - Multiple Bounding Boxes, Single Classification\n",
    "\n",
    "At a per-photo level, allow classification stating whether the photo contains 'cats' or 'dogs'.\n",
    "\n",
    "And within each photo allow up to 8 bounding boxes to be drawn around the individual animals.\n",
    "\n",
    "To obtain the repeated bounding boxes we add an extra dimension to the target matrix and use the RepeatInnotation. This accepts configuration details on how to build new rows of the BoundingBoxInnotations - you do not instantiate BoundingBoxInnotations yourself, just tell it which class, data, and keyword params to use."
   ]
  },
  {
   "cell_type": "code",
   "execution_count": 11,
   "metadata": {},
   "outputs": [
    {
     "data": {
      "application/vnd.jupyter.widget-view+json": {
       "model_id": "55c2bcc1321f41db8c338a78d0bba70d",
       "version_major": 2,
       "version_minor": 0
      },
      "text/plain": [
       "Innotater(children=(HBox(children=(VBox(children=(ImagePad(value=b'\\xff\\xd8\\xff\\xe0\\x00\\x10JFIF\\x00\\x01\\x01\\x0…"
      ]
     },
     "metadata": {},
     "output_type": "display_data"
    }
   ],
   "source": [
    "animalfns = sorted(os.listdir('./animals/'))\n",
    "\n",
    "repeats = 8\n",
    "\n",
    "# Per-photo data\n",
    "classes = ['cat', 'dog']\n",
    "targets_type = np.zeros((len(animalfns), len(classes)), dtype='int') # One-hot encoding\n",
    "\n",
    "# Repeats within each photo\n",
    "targets_bboxes = np.zeros((len(animalfns), repeats, 4), dtype='int') # (x,y,w,h) for each animal\n",
    "\n",
    "Innotater( ImageInnotation(animalfns, path='./animals', width=400, height=300), \n",
    "              [\n",
    "           MultiClassInnotation(targets_type, name='Animal Type', classes=classes, dropdown=False),\n",
    "           RepeatInnotation(\n",
    "             (BoundingBoxInnotation, targets_bboxes),\n",
    "             max_repeats=repeats, min_repeats=1\n",
    "           )\n",
    "              ]\n",
    ")"
   ]
  },
  {
   "cell_type": "code",
   "execution_count": 12,
   "metadata": {},
   "outputs": [
    {
     "name": "stdout",
     "output_type": "stream",
     "text": [
      "One-hot classes [[0 0]\n",
      " [0 0]]\n",
      "Bounding Boxes [[[0 0 0 0]\n",
      "  [0 0 0 0]\n",
      "  [0 0 0 0]\n",
      "  [0 0 0 0]\n",
      "  [0 0 0 0]\n",
      "  [0 0 0 0]\n",
      "  [0 0 0 0]\n",
      "  [0 0 0 0]]\n",
      "\n",
      " [[0 0 0 0]\n",
      "  [0 0 0 0]\n",
      "  [0 0 0 0]\n",
      "  [0 0 0 0]\n",
      "  [0 0 0 0]\n",
      "  [0 0 0 0]\n",
      "  [0 0 0 0]\n",
      "  [0 0 0 0]]]\n"
     ]
    }
   ],
   "source": [
    "print('One-hot classes', targets_type[:2]) # Just display the first 2 to save space\n",
    "print('Bounding Boxes', targets_bboxes[:2])"
   ]
  },
  {
   "cell_type": "markdown",
   "metadata": {},
   "source": [
    "### Repeat - Multiple Bounding Boxes and Multiple Classification, Single BBox and Exclude checkbox\n",
    "\n",
    "Per-photo we have an Exclude checkbox - perhaps to remove 'bad' photos from our dataset further down the line.\n",
    "\n",
    "Per-photo there is a bounding box to be drawn around the main section of the image.\n",
    "\n",
    "Also display the filename in a textbox beneath the image.\n",
    "\n",
    "Within each photo draw bounding boxes and specify breed class of each individual animal, up to a maximum of 8."
   ]
  },
  {
   "cell_type": "code",
   "execution_count": 13,
   "metadata": {},
   "outputs": [
    {
     "data": {
      "application/vnd.jupyter.widget-view+json": {
       "model_id": "a99fbc8cad4b425f8ca45479046778bc",
       "version_major": 2,
       "version_minor": 0
      },
      "text/plain": [
       "Innotater(children=(HBox(children=(VBox(children=(ImagePad(value=b'\\xff\\xd8\\xff\\xe0\\x00\\x10JFIF\\x00\\x01\\x01\\x0…"
      ]
     },
     "metadata": {},
     "output_type": "display_data"
    }
   ],
   "source": [
    "repeats = 8\n",
    "\n",
    "# Per-photo data\n",
    "targets_exclude = np.zeros((len(animalfns), 1), dtype='int') # Binary flag to indicate whether to exclude from dataset\n",
    "targets_mainbbox = np.zeros((len(animalfns), 4), dtype='int') # (x,y,w,h) for each data row\n",
    "\n",
    "# Repeats within each photo\n",
    "breeds = ['Cat - Shorthair tabby', 'Cat - Shorthair ginger', 'Dog - Labrador', 'Dog - Beagle', 'Dog - Terrier']\n",
    "targets_breed = np.zeros((len(animalfns), len(classes)), dtype='int')\n",
    "targets_bboxes = np.zeros((len(animalfns), repeats, 4), dtype='int') # (x,y,w,h) for each animal\n",
    "\n",
    "Innotater(    [ \n",
    "           ImageInnotation(animalfns, path='./animals', width=370, height=280), # Display the image itself\n",
    "           TextInnotation(animalfns, multiline=False) # Display the image filename\n",
    "              ],\n",
    "              [\n",
    "           BinaryClassInnotation(targets_type, name='Exclude'), # Checkbox\n",
    "           BoundingBoxInnotation(targets_mainbbox, name='Main Bounding Box'), # BBox for main image\n",
    "           RepeatInnotation(\n",
    "             (BoundingBoxInnotation, targets_bboxes), # Individual animal bounding box\n",
    "             (MultiClassInnotation, targets_breed, \n",
    "              {'name':'Breed', 'classes':breeds, 'dropdown':True}), # Per-animal breed dropdown\n",
    "             max_repeats=repeats, min_repeats=1\n",
    "           )\n",
    "              ]\n",
    ")"
   ]
  },
  {
   "cell_type": "code",
   "execution_count": 15,
   "metadata": {},
   "outputs": [
    {
     "name": "stdout",
     "output_type": "stream",
     "text": [
      "One-hot Exclude [[0]\n",
      " [0]]\n",
      "Main Bounding Boxes [[0 0 0 0]\n",
      " [0 0 0 0]]\n",
      "Animal Bounding Boxes [[[0 0 0 0]\n",
      "  [0 0 0 0]\n",
      "  [0 0 0 0]\n",
      "  [0 0 0 0]\n",
      "  [0 0 0 0]\n",
      "  [0 0 0 0]\n",
      "  [0 0 0 0]\n",
      "  [0 0 0 0]]\n",
      "\n",
      " [[0 0 0 0]\n",
      "  [0 0 0 0]\n",
      "  [0 0 0 0]\n",
      "  [0 0 0 0]\n",
      "  [0 0 0 0]\n",
      "  [0 0 0 0]\n",
      "  [0 0 0 0]\n",
      "  [0 0 0 0]]]\n",
      "Animal Breeds [[0 0]\n",
      " [0 0]]\n"
     ]
    }
   ],
   "source": [
    "print('One-hot Exclude', targets_exclude[:2]) # Just display the first 2 to save space\n",
    "print('Main Bounding Boxes', targets_mainbbox[:2])\n",
    "print('Animal Bounding Boxes', targets_bboxes[:2])\n",
    "print('Animal Breeds', targets_breed[:2])"
   ]
  },
  {
   "cell_type": "markdown",
   "metadata": {},
   "source": [
    "### Grouped Innotations\n",
    "\n",
    "The GroupedInnotation doesn't do any repeating but just allows you to group together other Innotations so they appear side-by-side."
   ]
  },
  {
   "cell_type": "code",
   "execution_count": 16,
   "metadata": {
    "scrolled": false
   },
   "outputs": [
    {
     "data": {
      "application/vnd.jupyter.widget-view+json": {
       "model_id": "c5d36e838bea4da9a73de1a5feca6e4c",
       "version_major": 2,
       "version_minor": 0
      },
      "text/plain": [
       "Innotater(children=(HBox(children=(VBox(children=(ImagePad(value=b'\\xff\\xd8\\xff\\xe0\\x00\\x10JFIF\\x00\\x01\\x01\\x0…"
      ]
     },
     "metadata": {},
     "output_type": "display_data"
    }
   ],
   "source": [
    "targets_singlebb = np.zeros((len(animalfns), 4), dtype='int') # (x,y,w,h) for each data row\n",
    "targets_cl = np.zeros((len(animalfns), 1), dtype='int')\n",
    "\n",
    "Innotater( ImageInnotation(animalfns, path='./animals', width=370, height=280), \n",
    "           GroupedInnotation( # Just to place side-by-side\n",
    "               MultiClassInnotation(targets_cl, name='Animal', classes=classes, dropdown=True),\n",
    "              BoundingBoxInnotation(targets_singlebb)\n",
    "           ) \n",
    ")"
   ]
  },
  {
   "cell_type": "code",
   "execution_count": null,
   "metadata": {},
   "outputs": [],
   "source": []
  }
 ],
 "metadata": {
  "kernelspec": {
   "display_name": "Python 3",
   "language": "python",
   "name": "python3"
  },
  "language_info": {
   "codemirror_mode": {
    "name": "ipython",
    "version": 3
   },
   "file_extension": ".py",
   "mimetype": "text/x-python",
   "name": "python",
   "nbconvert_exporter": "python",
   "pygments_lexer": "ipython3",
   "version": "3.7.3"
  }
 },
 "nbformat": 4,
 "nbformat_minor": 2
}

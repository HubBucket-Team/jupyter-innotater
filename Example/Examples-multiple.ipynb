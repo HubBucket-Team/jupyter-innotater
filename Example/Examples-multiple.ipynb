{
 "cells": [
  {
   "cell_type": "code",
   "execution_count": 1,
   "metadata": {},
   "outputs": [],
   "source": [
    "from jupyter_innotater import Innotater\n",
    "from jupyter_innotater.data import ImageInnotation, BoundingBoxInnotation, \\\n",
    "                                    MultiClassInnotation, BinaryClassInnotation, TextInnotation\n",
    "from jupyter_innotater.combine import GroupedInnotation\n",
    "\n",
    "import numpy as np, os"
   ]
  },
  {
   "cell_type": "markdown",
   "metadata": {},
   "source": [
    "### Image Filenames - Bounding Boxes and Classes"
   ]
  },
  {
   "cell_type": "code",
   "execution_count": 2,
   "metadata": {},
   "outputs": [
    {
     "data": {
      "application/vnd.jupyter.widget-view+json": {
       "model_id": "6c245b03349b4f77b61e6034e6364234",
       "version_major": 2,
       "version_minor": 0
      },
      "text/plain": [
       "Innotater(children=(HBox(children=(VBox(children=(ImagePad(value=b'\\xff\\xd8\\xff\\xe0\\x00\\x10JFIF\\x00\\x01\\x01\\x0…"
      ]
     },
     "metadata": {},
     "output_type": "display_data"
    }
   ],
   "source": [
    "foodfns = sorted(os.listdir('./foods/'))\n",
    "targets_bb = np.zeros((len(foodfns), 4), dtype='int') # (x,y,w,h) for each data row\n",
    "classes = ['vegetable', 'biscuit', 'fruit']\n",
    "targets_cl = [0] * len(foodfns)\n",
    "\n",
    "Innotater( ImageInnotation(foodfns, path='./foods'), \n",
    "          [ \n",
    "              BoundingBoxInnotation(targets_bb), \n",
    "              MultiClassInnotation(targets_cl, name='FoodType', classes=classes, desc='Food Type', dropdown=True)\n",
    "          ] )"
   ]
  },
  {
   "cell_type": "markdown",
   "metadata": {},
   "source": [
    "### Grouped version"
   ]
  },
  {
   "cell_type": "code",
   "execution_count": 3,
   "metadata": {
    "scrolled": false
   },
   "outputs": [
    {
     "data": {
      "application/vnd.jupyter.widget-view+json": {
       "model_id": "d30604e83b234ff99c7e783f8e397412",
       "version_major": 2,
       "version_minor": 0
      },
      "text/plain": [
       "Innotater(children=(HBox(children=(VBox(children=(ImagePad(value=b'\\xff\\xd8\\xff\\xe0\\x00\\x10JFIF\\x00\\x01\\x01\\x0…"
      ]
     },
     "metadata": {},
     "output_type": "display_data"
    }
   ],
   "source": [
    "Innotater( ImageInnotation(foodfns, path='./foods'), \n",
    "           GroupedInnotation( # Just to place side-by-side\n",
    "               MultiClassInnotation(targets_cl, name='FoodType', classes=classes, desc='Food Type', dropdown=True),\n",
    "              BoundingBoxInnotation(targets_bb)\n",
    "              \n",
    "           ) \n",
    ")"
   ]
  },
  {
   "cell_type": "code",
   "execution_count": 4,
   "metadata": {},
   "outputs": [
    {
     "data": {
      "text/plain": [
       "([0, 1, 0, 0, 0, 0, 0, 0], array([[203,  96,  83, 109],\n",
       "        [ 62, 103, 205, 148],\n",
       "        [  0,   0,   0,   0],\n",
       "        [  0,   0,   0,   0],\n",
       "        [  0,   0,   0,   0],\n",
       "        [  0,   0,   0,   0],\n",
       "        [  0,   0,   0,   0],\n",
       "        [  0,   0,   0,   0]]))"
      ]
     },
     "execution_count": 4,
     "metadata": {},
     "output_type": "execute_result"
    }
   ],
   "source": [
    "targets_cl, targets_bb"
   ]
  },
  {
   "cell_type": "markdown",
   "metadata": {},
   "source": [
    "### Repeated version"
   ]
  },
  {
   "cell_type": "code",
   "execution_count": null,
   "metadata": {},
   "outputs": [],
   "source": [
    "foodfns = sorted(os.listdir('./foods/'))\n",
    "\n",
    "targets_bb = np.zeros((len(foodfns), 4), dtype='int') # (x,y,w,h) for each data row\n",
    "classes = ['vegetable', 'biscuit', 'fruit']\n",
    "targets_cl = [0] * len(foodfns)\n",
    "\n",
    "json_data = [{}] * len(foodfns)\n",
    "jm = JsonMarshaller(json_data)\n",
    "\n",
    "Innotater( ImageInnotation(foodfns, path='./foods'), \n",
    "           RepeatInnotation( # Assumes grouped like above\n",
    "             jm,\n",
    "             BoundingBoxInnotation, \n",
    "             (MultiClassInnotation, {'name':'FoodType', 'classes':classes, 'desc':'Food Type', 'dropdown':True}),\n",
    "             repeats=3\n",
    "         )\n",
    ")"
   ]
  }
 ],
 "metadata": {
  "kernelspec": {
   "display_name": "Python 3",
   "language": "python",
   "name": "python3"
  },
  "language_info": {
   "codemirror_mode": {
    "name": "ipython",
    "version": 3
   },
   "file_extension": ".py",
   "mimetype": "text/x-python",
   "name": "python",
   "nbconvert_exporter": "python",
   "pygments_lexer": "ipython3",
   "version": "3.7.3"
  }
 },
 "nbformat": 4,
 "nbformat_minor": 2
}
